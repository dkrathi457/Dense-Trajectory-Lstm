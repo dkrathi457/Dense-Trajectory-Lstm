{
 "cells": [
  {
   "cell_type": "code",
   "execution_count": 1,
   "metadata": {},
   "outputs": [
    {
     "name": "stderr",
     "output_type": "stream",
     "text": [
      "Using TensorFlow backend.\n"
     ]
    }
   ],
   "source": [
    "#!/usr/bin/env python2\n",
    "# -*- coding: utf-8 -*-\n",
    "\"\"\"\n",
    "\n",
    "\n",
    "@author: Deepak\n",
    "\"\"\"\n",
    "from keras.callbacks import TensorBoard, ModelCheckpoint, EarlyStopping, CSVLogger\n",
    "import numpy as np\n",
    "import pandas as pd\n",
    "from scipy.io import loadmat\n",
    "import os.path\n",
    "from keras.utils import np_utils\n",
    "import tensorflow as tf\n",
    "from pandas import Series\n",
    "import time\n",
    "from keras.layers.recurrent import LSTM\n",
    "from keras.models import Sequential, load_model\n",
    "from keras.layers import Dense, Flatten, Dropout\n",
    "from keras.optimizers import Adam\n",
    "\n",
    "\n",
    "checkpointer = ModelCheckpoint(\n",
    "        filepath='/home/cis/Desktop/LStm Dense Trajectories/data/checkpoints/' + 'bow'+ \\\n",
    "            '.{epoch:03d}-{val_loss:.3f}.hdf5',\n",
    "        verbose=1,\n",
    "        save_best_only=True)\n",
    "\n",
    "# Helper: TensorBoard\n",
    "tb = TensorBoard(log_dir='/home/cis/Desktop/LStm Dense Trajectories/data/logs')\n",
    "\n",
    "# Helper: Stop when we stop learning.\n",
    "early_stopper = EarlyStopping(patience=10)\n",
    "\n",
    "# Helper: Save results.\n",
    "timestamp = time.time()\n",
    "csv_logger = CSVLogger('/home/cis/Desktop/LStm Dense Trajectories/data/logs/'+ '-' + 'training-' + \\\n",
    "        str(timestamp) + '.log')"
   ]
  },
  {
   "cell_type": "code",
   "execution_count": 2,
   "metadata": {
    "collapsed": true
   },
   "outputs": [],
   "source": [
    "trainingdict = loadmat('/home/cis/Videos/DSC550/SVM/All desc/dictan_Alldesc1.mat')\n",
    "train_x = trainingdict['encode']\n",
    "train_y = trainingdict['label']\n",
    "\n",
    "\n",
    "testing_dict = loadmat('/home/cis/Videos/DSC550/SVM/All desc/dictan_Alldesc1_t.mat')\n",
    "test_x = testing_dict['encode_t']\n",
    "test_y = testing_dict['label_t']\n",
    "\n",
    "classes = ['boxing' , 'handclapping' , 'handwaving' , 'jogging' , 'running' , 'walking']\n"
   ]
  },
  {
   "cell_type": "code",
   "execution_count": 3,
   "metadata": {
    "collapsed": true
   },
   "outputs": [],
   "source": [
    "## Convert label to categorical\n",
    "def convert_to_categ(train_y):\n",
    "    y = []\n",
    "    for i in range(0 , len(train_y)):\n",
    "        k= train_y[i][0]\n",
    "        #print k\n",
    "        label_encoded = classes.index(k)\n",
    "        get_label = np_utils.to_categorical (label_encoded, len(classes))       \n",
    "        get_label  = get_label[0]\n",
    "        y.append(get_label)\n",
    "        \n",
    "    return np.array(y)\n",
    "\n",
    "\n",
    "\n",
    "train_x_t = train_x.reshape(train_x.shape[0], 1, train_x.shape[1])\n",
    "test_x_t = test_x.reshape(test_x.shape[0], 1, test_x.shape[1])    \n",
    " \n",
    "def convert_to_categ_test(test_y):\n",
    "    y = []\n",
    "    for i in range(0 , len(test_y)):\n",
    "        k= test_y[i][0]\n",
    "        #print k\n",
    "        label_encoded = classes.index(k)\n",
    "        get_label = np_utils.to_categorical (label_encoded, len(classes))       \n",
    "        get_label  = get_label[0]\n",
    "        y.append(get_label)\n",
    "        \n",
    "    return np.array(y)"
   ]
  },
  {
   "cell_type": "code",
   "execution_count": 4,
   "metadata": {
    "collapsed": true
   },
   "outputs": [],
   "source": [
    "train_y = convert_to_categ(train_y)\n",
    "test_y = convert_to_categ_test(test_y)"
   ]
  },
  {
   "cell_type": "code",
   "execution_count": 5,
   "metadata": {},
   "outputs": [
    {
     "name": "stdout",
     "output_type": "stream",
     "text": [
      "_________________________________________________________________\n",
      "Layer (type)                 Output Shape              Param #   \n",
      "=================================================================\n",
      "lstm_1 (LSTM)                (None, 1, 200)            87405600  \n",
      "_________________________________________________________________\n",
      "flatten_1 (Flatten)          (None, 200)               0         \n",
      "_________________________________________________________________\n",
      "dense_1 (Dense)              (None, 100)               20100     \n",
      "_________________________________________________________________\n",
      "dropout_1 (Dropout)          (None, 100)               0         \n",
      "_________________________________________________________________\n",
      "dense_2 (Dense)              (None, 6)                 606       \n",
      "=================================================================\n",
      "Total params: 87,426,306\n",
      "Trainable params: 87,426,306\n",
      "Non-trainable params: 0\n",
      "_________________________________________________________________\n"
     ]
    }
   ],
   "source": [
    "model = Sequential()\n",
    "model.add(LSTM(200, return_sequences=True, input_shape=(train_x_t.shape[1], train_x_t.shape[2]),dropout=0.5))\n",
    "model.add(Flatten())\n",
    "model.add(Dense(100, activation='relu'))\n",
    "model.add(Dropout(0.5))\n",
    "model.add(Dense(6, activation='softmax'))\n",
    "\n",
    "optimizer = Adam(lr=1e-6)\n",
    "model.compile(loss='categorical_crossentropy', optimizer= optimizer,\n",
    "                           metrics = ['accuracy'])\n",
    "model.summary()"
   ]
  },
  {
   "cell_type": "code",
   "execution_count": null,
   "metadata": {
    "collapsed": true
   },
   "outputs": [],
   "source": [
    "model.fit(train_x_t, train_y, batch_size=32, epochs=70, validation_data=(test_x_t, test_y), verbose=1, callbacks=[checkpointer, tb, early_stopper, csv_logger])"
   ]
  }
 ],
 "metadata": {
  "kernelspec": {
   "display_name": "Python [conda root]",
   "language": "python",
   "name": "conda-root-py"
  },
  "language_info": {
   "codemirror_mode": {
    "name": "ipython",
    "version": 2
   },
   "file_extension": ".py",
   "mimetype": "text/x-python",
   "name": "python",
   "nbconvert_exporter": "python",
   "pygments_lexer": "ipython2",
   "version": "2.7.13"
  }
 },
 "nbformat": 4,
 "nbformat_minor": 2
}
